{
 "cells": [
  {
   "cell_type": "code",
   "execution_count": 3,
   "id": "3468fda0-0165-47ce-a9a6-4d33ea87f780",
   "metadata": {
    "scrolled": true
   },
   "outputs": [
    {
     "data": {
      "application/vnd.jupyter.widget-view+json": {
       "model_id": "478cc9f58f894d02a18a020d11b37748",
       "version_major": 2,
       "version_minor": 0
      },
      "text/plain": [
       "interactive(children=(FloatSlider(value=1.0, description='frequency', max=10.0, min=0.1), Output()), _dom_clas…"
      ]
     },
     "metadata": {},
     "output_type": "display_data"
    }
   ],
   "source": [
    "import numpy as np\n",
    "import matplotlib.pyplot as plt\n",
    "from ipywidgets import interact, FloatSlider\n",
    "\n",
    "# 可交互的绘图函数\n",
    "def plot_sine(frequency=1.0):\n",
    "    x = np.linspace(0, 2*np.pi, 1000)\n",
    "    y = np.sin(frequency * x)\n",
    "    plt.figure(figsize=(6, 3))\n",
    "    plt.plot(x, y)\n",
    "    plt.title(f\"sin({frequency}x)\")\n",
    "    plt.grid(True)\n",
    "    plt.show()\n",
    "\n",
    "# 生成滑块\n",
    "interact(plot_sine, frequency=FloatSlider(min=0.1, max=10.0, step=0.1, value=1.0));"
   ]
  },
  {
   "cell_type": "code",
   "execution_count": null,
   "id": "26acae64-5248-4f4e-b57a-7ba978a73d5c",
   "metadata": {},
   "outputs": [],
   "source": []
  }
 ],
 "metadata": {
  "kernelspec": {
   "display_name": "Python [conda env:base] *",
   "language": "python",
   "name": "conda-base-py"
  },
  "language_info": {
   "codemirror_mode": {
    "name": "ipython",
    "version": 3
   },
   "file_extension": ".py",
   "mimetype": "text/x-python",
   "name": "python",
   "nbconvert_exporter": "python",
   "pygments_lexer": "ipython3",
   "version": "3.12.7"
  }
 },
 "nbformat": 4,
 "nbformat_minor": 5
}

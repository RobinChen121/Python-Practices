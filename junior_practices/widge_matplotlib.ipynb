{
 "cells": [
  {
   "cell_type": "code",
   "execution_count": 3,
   "id": "3468fda0-0165-47ce-a9a6-4d33ea87f780",
   "metadata": {
    "scrolled": true
   },
   "outputs": [
    {
     "data": {
      "application/vnd.jupyter.widget-view+json": {
       "model_id": "478cc9f58f894d02a18a020d11b37748",
       "version_major": 2,
       "version_minor": 0
      },
      "text/plain": [
       "interactive(children=(FloatSlider(value=1.0, description='frequency', max=10.0, min=0.1), Output()), _dom_clas…"
      ]
     },
     "metadata": {},
     "output_type": "display_data"
    }
   ],
   "source": [
    "import numpy as np\n",
    "import matplotlib.pyplot as plt\n",
    "from ipywidgets import interact, FloatSlider\n",
    "\n",
    "# 可交互的绘图函数\n",
    "def plot_sine(frequency=1.0):\n",
    "    x = np.linspace(0, 2*np.pi, 1000)\n",
    "    y = np.sin(frequency * x)\n",
    "    plt.figure(figsize=(6, 3))\n",
    "    plt.plot(x, y)\n",
    "    plt.title(f\"sin({frequency}x)\")\n",
    "    plt.grid(True)\n",
    "    plt.show()\n",
    "\n",
    "# 生成滑块\n",
    "interact(plot_sine, frequency=FloatSlider(min=0.1, max=10.0, step=0.1, value=1.0));"
   ]
  },
  {
   "cell_type": "code",
   "id": "26acae64-5248-4f4e-b57a-7ba978a73d5c",
   "metadata": {
    "ExecuteTime": {
     "end_time": "2025-07-25T10:32:35.308036Z",
     "start_time": "2025-07-25T10:32:34.809774Z"
    }
   },
   "source": [
    "# NBVAL_SKIP\n",
    "# setting the backend in case this is run in a notebook\n",
    "%matplotlib qt\n",
    "\n",
    "import matplotlib.pyplot as plt\n",
    "import numpy as np\n",
    "\n",
    "import mpl_interactions.ipyplot as iplt\n",
    "\n",
    "x = np.linspace(0, np.pi, 100)\n",
    "tau = np.linspace(1, 10, 100)\n",
    "beta = np.linspace(0.001, 1)\n",
    "\n",
    "\n",
    "def f(x, tau, beta):\n",
    "    return np.sin(x * tau) * x**beta\n",
    "\n",
    "\n",
    "fig, ax = plt.subplots()\n",
    "controls = iplt.plot(x, f, tau=tau, beta=beta, slider_formats={\"beta\": \"{:.3e}\"})\n",
    "plt.show()"
   ],
   "outputs": [],
   "execution_count": 4
  },
  {
   "metadata": {},
   "cell_type": "code",
   "outputs": [],
   "execution_count": null,
   "source": "",
   "id": "3a7051d2065b2729"
  }
 ],
 "metadata": {
  "kernelspec": {
   "display_name": "Python [conda env:base] *",
   "language": "python",
   "name": "conda-base-py"
  },
  "language_info": {
   "codemirror_mode": {
    "name": "ipython",
    "version": 3
   },
   "file_extension": ".py",
   "mimetype": "text/x-python",
   "name": "python",
   "nbconvert_exporter": "python",
   "pygments_lexer": "ipython3",
   "version": "3.12.7"
  }
 },
 "nbformat": 4,
 "nbformat_minor": 5
}
